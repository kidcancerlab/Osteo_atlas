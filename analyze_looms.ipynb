{
 "cells": [
  {
   "cell_type": "markdown",
   "metadata": {},
   "source": [
    "# Velocity Analysis with scVelo"
   ]
  },
  {
   "cell_type": "code",
   "execution_count": 1,
   "metadata": {},
   "outputs": [],
   "source": [
    "import anndata\n",
    "import scvelo as scv\n",
    "import pandas as pd\n",
    "import numpy as np\n",
    "import matplotlib as plt\n",
    "import scanpy as sc\n",
    "import os\n",
    "import re"
   ]
  },
  {
   "cell_type": "markdown",
   "metadata": {},
   "source": [
    "I'll be analyzing the loom files created in child_qmds/velocity_analysis.qmd using scVelo.\n",
    "\n",
    "First I'm going to define a function that will take all loom files for a given dataset and merge them into a single anndata object. This function will add metadata to the anndata objects as well."
   ]
  },
  {
   "cell_type": "code",
   "execution_count": 2,
   "metadata": {},
   "outputs": [],
   "source": [
    "def loom_to_an(loom_path, metadata_path):\n",
    "    loom_files=os.listdir(loom_path)\n",
    "    #initialize list to hold anndata objects\n",
    "    ad_obs = []\n",
    "    for one_loom in loom_files:\n",
    "        #get sample id from file name\n",
    "        sample_id = re.sub(\".loom\", \"\", one_loom)\n",
    "        #add object to list\n",
    "        tmp = anndata.read_loom(loom_path + \"/\" + one_loom)\n",
    "        #read in metadata file\n",
    "        md_path = metadata_path + \"/\" + sample_id + \"_metadata.csv\"\n",
    "        metadata = pd.read_csv(md_path, index_col = \"bc\")\n",
    "        tmp.obs = metadata.filter(regex = '^(?!umap_|PC_|fdl_|harmony_).*$').reindex(tmp.obs.index)\n",
    "        #Add pca embeddings\n",
    "        tmp.obsm[\"X_pca\"] = metadata.filter(regex = \"PC_\").reindex(tmp.obs.index).to_numpy()\n",
    "        #Add umap embeddings\n",
    "        tmp.obsm[\"X_umap\"] = metadata.filter(regex = \"umap_\").reindex(tmp.obs.index).to_numpy()\n",
    "        #add fdl embeddings\n",
    "        tmp.obsm[\"X_fdl\"] = metadata.filter(regex = \"fdl_\").reindex(tmp.obs.index).to_numpy()\n",
    "        #add harmony embeddings\n",
    "        tmp.obsm[\"X_harmony\"] = metadata.filter(regex = \"harmony_\").reindex(tmp.obs.index).to_numpy ()\n",
    "        #make var names unique (this step is necessary to merge anndata list)\n",
    "        tmp.var_names_make_unique()\n",
    "        #add object to list\n",
    "        ad_obs.append(tmp)\n",
    "    #merge anndata list\n",
    "    merged_anndata = anndata.concat(ad_obs)\n",
    "    #return merged anndata\n",
    "    return merged_anndata\n",
    "\n",
    "\n",
    "def make_stream_plot(ad_ob, mode = \"stochastic\"):\n",
    "    sc.pp.neighbors(ad_ob, n_pcs = 30, n_neighbors = 30)\n",
    "    scv.pp.moments(ad_ob)\n",
    "    scv.tl.velocity(ob, mode = mode)\n",
    "    scv.tl.velocity_graph(ob)\n",
    "    scv.pl.velocity_embedding_stream(ob, basis = \"umap\", color = \"seurat_clusters\")\n",
    "\n"
   ]
  },
  {
   "cell_type": "markdown",
   "metadata": {},
   "source": [
    "## Cancer Cells\n",
    "\n",
    "This section will examine the cancer cells from our datasets.\n",
    "\n",
    "### mm_mets_cancer_cells"
   ]
  },
  {
   "cell_type": "code",
   "execution_count": null,
   "metadata": {},
   "outputs": [],
   "source": [
    "ob = loom_to_an(loom_path = \"loom_output/mm_mets_cancer_cells/loom_files\",\n",
    "                metadata_path = \"loom_output/mm_mets_cancer_cells/metadata\")\n",
    "\n",
    "make_stream_plot(ob)"
   ]
  },
  {
   "cell_type": "markdown",
   "metadata": {},
   "source": [
    "### mm_prim_cancer_cells"
   ]
  },
  {
   "cell_type": "code",
   "execution_count": null,
   "metadata": {},
   "outputs": [],
   "source": [
    "ob =loom_to_an(loom_path=\"loom_output/mm_prim_cancer_cells/loom_files\",\n",
    "               metadata_path=\"loom_output/mm_prim_cancer_cells/metadata\")\n",
    "\n",
    "make_stream_plot(ob)"
   ]
  },
  {
   "cell_type": "markdown",
   "metadata": {},
   "source": [
    "### patient_mets_cancer_cells"
   ]
  },
  {
   "cell_type": "code",
   "execution_count": 3,
   "metadata": {},
   "outputs": [],
   "source": [
    "ob = loom_to_an(loom_path= \"loom_output/patient_mets_cancer_cells/loom_files\",\n",
    "                metadata_path = \"loom_output/patient_mets_cancer_cells/metadata\")\n",
    "\n",
    "make_stream_plot(ob)"
   ]
  },
  {
   "cell_type": "code",
   "execution_count": null,
   "metadata": {},
   "outputs": [],
   "source": [
    "md_files = os.listdir(\"loom_output/patient_mets_cancer_cells/metadata\")\n",
    "md_df = pd.DataFrame()\n",
    "for md in md_files:\n",
    "    tmp_md = pd.read_csv(\"loom_output/patient_mets_cancer_cells/metadata/\" + md)\n",
    "    md_df = pd.concat([md_df, tmp_md])\n",
    "\n",
    "md_df"
   ]
  },
  {
   "cell_type": "code",
   "execution_count": null,
   "metadata": {},
   "outputs": [],
   "source": [
    "ad_bcs = ob.obs.index\n",
    "md_bcs = md_df.reindex(\"bc\").index\n",
    "ad_bcs.difference(md_bcs)\n",
    "md_bcs.difference(ad_bcs)"
   ]
  }
 ],
 "metadata": {
  "kernelspec": {
   "display_name": "Python 3",
   "language": "python",
   "name": "python3"
  },
  "language_info": {
   "codemirror_mode": {
    "name": "ipython",
    "version": 3
   },
   "file_extension": ".py",
   "mimetype": "text/x-python",
   "name": "python",
   "nbconvert_exporter": "python",
   "pygments_lexer": "ipython3",
   "version": "3.12.5"
  }
 },
 "nbformat": 4,
 "nbformat_minor": 2
}
