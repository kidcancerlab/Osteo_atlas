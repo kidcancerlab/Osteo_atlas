{
 "cells": [
  {
   "cell_type": "markdown",
   "id": "c28d7727",
   "metadata": {},
   "source": [
    "# Outline\n",
    "\n",
    "This notebook is for comparing the dynamical and stochastic models from scVelo"
   ]
  },
  {
   "cell_type": "code",
   "execution_count": 29,
   "id": "3435efdf",
   "metadata": {},
   "outputs": [],
   "source": [
    "import anndata\n",
    "import scvelo as scv\n",
    "import pandas as pd\n",
    "import numpy as np\n",
    "import matplotlib\n",
    "import igraph\n",
    "from matplotlib import pyplot as plt\n",
    "from matplotlib.colors import ListedColormap\n",
    "import scanpy as sc\n",
    "import os\n",
    "import re\n",
    "from matplotlib_venn import venn2"
   ]
  },
  {
   "cell_type": "code",
   "execution_count": 43,
   "id": "9b21cc27",
   "metadata": {},
   "outputs": [],
   "source": [
    "def velo_len_conf_table(ob):\n",
    "    keys = [\"velocity_length\", \"velocity_confidence\"]\n",
    "    # get dataframe with conf values for each object\n",
    "    stoc_df = stochastic_dict[ob].obs.groupby(\"Ann_Level3\")[keys].mean().T. \\\n",
    "        rename(index = {\"velocity_length\": \"stoc_velo_length\", \"velocity_confidence\": \"stoc_velo_confidence\"})\n",
    "    dyn_df = dynamical_dict[ob].obs.groupby(\"Ann_Level3\")[keys].mean().T. \\\n",
    "        rename(index = {\"velocity_length\": \"dyn_velo_length\", \"velocity_confidence\": \"dyn_velo_confidence\"})\n",
    "    dyn_df.reindex(index = [\"sn_velo_length\", \"sn_velo_confidence\"])\n",
    "    comb_df = pd.concat([stoc_df, dyn_df])\n",
    "    styled_out = comb_df.style.background_gradient(subset=pd.IndexSlice[[\"stoc_velo_length\", \"dyn_velo_length\"], :], axis=None, cmap = \"coolwarm\") \\\n",
    "        .background_gradient(subset=pd.IndexSlice[[\"stoc_velo_confidence\", \"dyn_velo_confidence\"], :], axis=None, cmap = \"coolwarm\") \\\n",
    "        .set_caption(ob) \\\n",
    "        .set_table_styles([{\n",
    "            \"selector\": \"caption\",\n",
    "            \"props\": [\n",
    "                (\"color\", \"black\"),\n",
    "                (\"font-size\", \"24px\")\n",
    "            ]\n",
    "        }])\n",
    "    display(styled_out)\n",
    "    # html = styled_out.to_html()\n",
    "    # imgkit.from_string(html, \"output/figures/rna_velocity/confidence_tables/\" + ob + \".html\")\n",
    "\n",
    "\n",
    "def velo_venn(cell_type):\n",
    "    #set subplot layout\n",
    "    cols = 1\n",
    "    rows = 8\n",
    "    fig, axes = plt.subplots(rows, cols, figsize = (cols * 6, rows * 5))\n",
    "    for i, ob in enumerate(sc_obs):\n",
    "        ob = ob.removesuffix(\".ad\")\n",
    "        # just get genes from tumor apoptosis; they're all the same across the tumor types\n",
    "        tmp_stoc = stoc_genes[ob][cell_type]\n",
    "        tmp_dyn = dyn_genes[ob][cell_type]\n",
    "        ax = axes[i]\n",
    "        venn2([set(tmp_stoc), set(tmp_dyn)], set_labels = (\"Stochastic\", \"Dynamical\"), ax = ax)\n",
    "        ax.set_title(f\"Velocity-Driving Genes in {ob}\")\n",
    "    plt.tight_layout()\n",
    "    plt.show()"
   ]
  },
  {
   "cell_type": "code",
   "execution_count": 40,
   "id": "ff51cd6f",
   "metadata": {},
   "outputs": [
    {
     "ename": "IndexError",
     "evalue": "index 4 is out of bounds for axis 0 with size 2",
     "output_type": "error",
     "traceback": [
      "\u001b[31m---------------------------------------------------------------------------\u001b[39m",
      "\u001b[31mIndexError\u001b[39m                                Traceback (most recent call last)",
      "\u001b[36mCell\u001b[39m\u001b[36m \u001b[39m\u001b[32mIn[40]\u001b[39m\u001b[32m, line 4\u001b[39m\n\u001b[32m      2\u001b[39m rows = \u001b[32m2\u001b[39m\n\u001b[32m      3\u001b[39m fig, axes = plt.subplots(rows, cols, figsize = (cols * \u001b[32m6\u001b[39m, rows * \u001b[32m5\u001b[39m))\n\u001b[32m----> \u001b[39m\u001b[32m4\u001b[39m \u001b[43maxes\u001b[49m\u001b[43m[\u001b[49m\u001b[32;43m4\u001b[39;49m\u001b[43m]\u001b[49m\n",
      "\u001b[31mIndexError\u001b[39m: index 4 is out of bounds for axis 0 with size 2"
     ]
    },
    {
     "data": {
      "image/png": "[encoded data removed]",
      "text/plain": [
       "<Figure size 2400x1000 with 8 Axes>"
      ]
     },
     "metadata": {},
     "output_type": "display_data"
    }
   ],
   "source": [
    "cols = 4\n",
    "rows = 2\n",
    "fig, axes = plt.subplots(rows, cols, figsize = (cols * 6, rows * 5))\n",
    "axes[4]"
   ]
  },
  {
   "cell_type": "code",
   "execution_count": null,
   "id": "c225e6d3",
   "metadata": {},
   "outputs": [],
   "source": [
    "sc_obs = os.listdir(\"loom_output/split_ad/sc/\")\n",
    "stochastic_dict = dict()\n",
    "dynamical_dict = dict()\n",
    "for ob in sc_obs:\n",
    "    ob = ob.removesuffix(\".ad\")\n",
    "    stochastic_dict[ob] = anndata.read(\n",
    "        \"loom_output/split_ad/stochastic/sc/\" + ob + \".ad\"\n",
    "    )\n",
    "    dynamical_dict[ob] = anndata.read(\n",
    "        \"loom_output/split_ad/sc/\" + ob + \".ad\"\n",
    "    )\n",
    "    # add confidence scores\n",
    "    scv.tl.velocity_confidence(stochastic_dict[ob])\n",
    "    scv.tl.velocity_confidence(dynamical_dict[ob])\n"
   ]
  },
  {
   "cell_type": "code",
   "execution_count": null,
   "id": "9f176eea",
   "metadata": {},
   "outputs": [],
   "source": [
    "for ob in sc_obs:\n",
    "    velo_len_conf_table(ob.removesuffix(\".ad\"))"
   ]
  },
  {
   "cell_type": "markdown",
   "id": "e6552109",
   "metadata": {},
   "source": [
    "# Compare Velocity Driving Genes\n",
    "\n",
    "I'm going to find what genes are driving the velocity results in each model, and then compare for each dataset. My hope is that it is the same genes driving these results."
   ]
  },
  {
   "cell_type": "code",
   "execution_count": null,
   "id": "13da5bbb",
   "metadata": {},
   "outputs": [],
   "source": [
    "stoc_genes = dict()\n",
    "dyn_genes = dict()\n",
    "for ob in sc_obs:\n",
    "    ob = ob.removesuffix(\".ad\")\n",
    "    # for stochastic\n",
    "    stoc_ob = stochastic_dict[ob]\n",
    "    scv.tl.rank_velocity_genes(stoc_ob, groupby = \"Ann_Level3\", n_genes = 100)\n",
    "    stoc_genes[ob] = pd.DataFrame(stoc_ob.uns[\"rank_velocity_genes\"][\"names\"])\n",
    "    # for dynamical\n",
    "    dyn_ob = dynamical_dict[ob]\n",
    "    scv.tl.rank_velocity_genes(dyn_ob, groupby = \"Ann_Level3\", n_genes = 100)\n",
    "    dyn_genes[ob] = pd.DataFrame(dyn_ob.uns[\"rank_velocity_genes\"][\"names\"])"
   ]
  },
  {
   "cell_type": "code",
   "execution_count": 54,
   "id": "c2b0ffe7",
   "metadata": {},
   "outputs": [
    {
     "data": {
      "text/html": [
       "<div>\n",
       "<style scoped>\n",
       "    .dataframe tbody tr th:only-of-type {\n",
       "        vertical-align: middle;\n",
       "    }\n",
       "\n",
       "    .dataframe tbody tr th {\n",
       "        vertical-align: top;\n",
       "    }\n",
       "\n",
       "    .dataframe thead th {\n",
       "        text-align: right;\n",
       "    }\n",
       "</style>\n",
       "<table border=\"1\" class=\"dataframe\">\n",
       "  <thead>\n",
       "    <tr style=\"text-align: right;\">\n",
       "      <th></th>\n",
       "      <th>Basal_Progenitor</th>\n",
       "      <th>Fibrogenic</th>\n",
       "      <th>Interactive</th>\n",
       "      <th>MP_Progenitor</th>\n",
       "      <th>Proliferative</th>\n",
       "    </tr>\n",
       "  </thead>\n",
       "  <tbody>\n",
       "    <tr>\n",
       "      <th>0</th>\n",
       "      <td>Timp3</td>\n",
       "      <td>Naaladl2</td>\n",
       "      <td>Sash1</td>\n",
       "      <td>Cd74</td>\n",
       "      <td>Prc1</td>\n",
       "    </tr>\n",
       "    <tr>\n",
       "      <th>1</th>\n",
       "      <td>Galnt15</td>\n",
       "      <td>Sox5</td>\n",
       "      <td>Alcam</td>\n",
       "      <td>Nnmt</td>\n",
       "      <td>Cenpf</td>\n",
       "    </tr>\n",
       "    <tr>\n",
       "      <th>2</th>\n",
       "      <td>Clca3a1</td>\n",
       "      <td>Klf9</td>\n",
       "      <td>Abca1</td>\n",
       "      <td>AA465934</td>\n",
       "      <td>Top2a</td>\n",
       "    </tr>\n",
       "    <tr>\n",
       "      <th>3</th>\n",
       "      <td>Prelp</td>\n",
       "      <td>Podn</td>\n",
       "      <td>Lrp4</td>\n",
       "      <td>Mmp2</td>\n",
       "      <td>Gm50147</td>\n",
       "    </tr>\n",
       "    <tr>\n",
       "      <th>4</th>\n",
       "      <td>Ighg1</td>\n",
       "      <td>Prkg1</td>\n",
       "      <td>Shtn1</td>\n",
       "      <td>Mxra8</td>\n",
       "      <td>Mki67</td>\n",
       "    </tr>\n",
       "    <tr>\n",
       "      <th>...</th>\n",
       "      <td>...</td>\n",
       "      <td>...</td>\n",
       "      <td>...</td>\n",
       "      <td>...</td>\n",
       "      <td>...</td>\n",
       "    </tr>\n",
       "    <tr>\n",
       "      <th>95</th>\n",
       "      <td>Gfpt2</td>\n",
       "      <td>Prg4</td>\n",
       "      <td>H2-Eb1</td>\n",
       "      <td>Inhba</td>\n",
       "      <td>Gm26632</td>\n",
       "    </tr>\n",
       "    <tr>\n",
       "      <th>96</th>\n",
       "      <td>Olfr1033</td>\n",
       "      <td>Ndrg1</td>\n",
       "      <td>Lrrc1</td>\n",
       "      <td>Col4a5</td>\n",
       "      <td>Ctsk</td>\n",
       "    </tr>\n",
       "    <tr>\n",
       "      <th>97</th>\n",
       "      <td>Aqp1</td>\n",
       "      <td>Rbbp8</td>\n",
       "      <td>Ptn</td>\n",
       "      <td>Mme</td>\n",
       "      <td>Stmn2</td>\n",
       "    </tr>\n",
       "    <tr>\n",
       "      <th>98</th>\n",
       "      <td>Id2</td>\n",
       "      <td>Hpgd</td>\n",
       "      <td>Postn</td>\n",
       "      <td>C1qtnf7</td>\n",
       "      <td>Gm26802</td>\n",
       "    </tr>\n",
       "    <tr>\n",
       "      <th>99</th>\n",
       "      <td>Aldh1a1</td>\n",
       "      <td>Vcam1</td>\n",
       "      <td>Adgrg6</td>\n",
       "      <td>Sat1</td>\n",
       "      <td>AI662270</td>\n",
       "    </tr>\n",
       "  </tbody>\n",
       "</table>\n",
       "<p>100 rows × 5 columns</p>\n",
       "</div>"
      ],
      "text/plain": [
       "   Basal_Progenitor Fibrogenic Interactive MP_Progenitor Proliferative\n",
       "0             Timp3   Naaladl2       Sash1          Cd74          Prc1\n",
       "1           Galnt15       Sox5       Alcam          Nnmt         Cenpf\n",
       "2           Clca3a1       Klf9       Abca1      AA465934         Top2a\n",
       "3             Prelp       Podn        Lrp4          Mmp2       Gm50147\n",
       "4             Ighg1      Prkg1       Shtn1         Mxra8         Mki67\n",
       "..              ...        ...         ...           ...           ...\n",
       "95            Gfpt2       Prg4      H2-Eb1         Inhba       Gm26632\n",
       "96         Olfr1033      Ndrg1       Lrrc1        Col4a5          Ctsk\n",
       "97             Aqp1      Rbbp8         Ptn           Mme         Stmn2\n",
       "98              Id2       Hpgd       Postn       C1qtnf7       Gm26802\n",
       "99          Aldh1a1      Vcam1      Adgrg6          Sat1      AI662270\n",
       "\n",
       "[100 rows x 5 columns]"
      ]
     },
     "execution_count": 54,
     "metadata": {},
     "output_type": "execute_result"
    }
   ],
   "source": [
    "stoc_genes[\"mm_mets_cancer_cells_fdl\"]"
   ]
  },
  {
   "cell_type": "markdown",
   "id": "318e21b1",
   "metadata": {},
   "source": [
    "# Trajectory Analysis"
   ]
  },
  {
   "cell_type": "code",
   "execution_count": null,
   "id": "9b9a7e43",
   "metadata": {},
   "outputs": [],
   "source": [
    "stoc_keys = list(stochastic_dict.keys())\n",
    "keys = \"velocity_length\", \"velocity_confidence\"\n",
    "for ob in stoc_keys:\n",
    "    tmp = stochastic_dict[ob]\n",
    "    scv.tl.velocity_confidence(tmp)\n",
    "    tmp.uns['neighbors']['distances'] = tmp.obsp['distances']\n",
    "    tmp.uns['neighbors']['connectivities'] = tmp.obsp['connectivities']\n",
    "    scv.tl.paga(tmp, groups='Ann_Level3')\n",
    "    stochastic_dict[ob] = tmp\n",
    "\n",
    "\n",
    "dyn_keys = list(dynamical_dict.keys())\n",
    "for ob in dyn_keys:\n",
    "    tmp = dynamical_dict[ob]\n",
    "    scv.tl.velocity_confidence(tmp)\n",
    "    tmp.uns['neighbors']['distances'] = tmp.obsp['distances']\n",
    "    tmp.uns['neighbors']['connectivities'] = tmp.obsp['connectivities']\n",
    "    scv.tl.paga(tmp, groups='Ann_Level3')\n",
    "    dynamical_dict[ob] = tmp"
   ]
  }
 ],
 "metadata": {
  "kernelspec": {
   "display_name": "Python 3",
   "language": "python",
   "name": "python3"
  },
  "language_info": {
   "codemirror_mode": {
    "name": "ipython",
    "version": 3
   },
   "file_extension": ".py",
   "mimetype": "text/x-python",
   "name": "python",
   "nbconvert_exporter": "python",
   "pygments_lexer": "ipython3",
   "version": "3.12.9"
  }
 },
 "nbformat": 4,
 "nbformat_minor": 5
}
